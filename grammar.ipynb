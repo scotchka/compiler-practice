{
 "cells": [
  {
   "cell_type": "code",
   "execution_count": 182,
   "metadata": {},
   "outputs": [],
   "source": [
    "from lark import Lark\n",
    "import dis\n",
    "import ast"
   ]
  },
  {
   "cell_type": "code",
   "execution_count": 183,
   "metadata": {},
   "outputs": [],
   "source": [
    "grammar = r\"\"\"\n",
    "?block: \"{\" (stmt \";\") * \"}\"\n",
    "\n",
    "stmt: \"global\" WORD expr -> assign_global\n",
    "    | \"local\" WORD expr -> assign_local\n",
    "    | \"fn\" WORD \"(\" WORD * \")\" block -> declare_function\n",
    "    | \"return\" expr -> return\n",
    "    | \"if\" expr block (\"elif\" expr block)* (\"else\" block)? -> conditional\n",
    "    | \"while\" expr block -> while\n",
    "    | \"print\" expr -> print\n",
    "    | expr\n",
    "    \n",
    "\n",
    "\n",
    "\n",
    "\n",
    "?expr: term \"==\" expr -> eq\n",
    "    | term \"<\" expr -> lt\n",
    "    | term \">\" expr -> gt\n",
    "    | term \"<=\" expr -> le\n",
    "    | term \">=\" expr -> ge\n",
    "    | term \"!=\" expr -> ne\n",
    "    | \"!\" expr -> neg\n",
    "    | expr \"+\" term -> add\n",
    "    | expr \"-\" term -> sub\n",
    "    | term\n",
    "    \n",
    "?term: term \"*\" factor -> mul\n",
    "    | term \"/\" factor -> sub\n",
    "    | factor\n",
    "\n",
    "?factor: NUMBER\n",
    "    | WORD\n",
    "    | ESCAPED_STRING\n",
    "    | WORD \"(\" expr* \")\" -> call\n",
    "    | \"True\"\n",
    "    | \"False\"\n",
    "    | \"None\"\n",
    "    | \"(\" expr \")\"\n",
    "\n",
    "COMMENT: /\\(#[\\s\\S]*#\\)/\n",
    "\n",
    "%import common.NUMBER\n",
    "%import common.ESCAPED_STRING\n",
    "%import common.WORD\n",
    "%import common.WS\n",
    "%ignore WS\n",
    "%ignore COMMENT\n",
    "\n",
    "\"\"\""
   ]
  },
  {
   "cell_type": "code",
   "execution_count": 184,
   "metadata": {},
   "outputs": [],
   "source": [
    "parser = Lark(grammar, start='block', parser='lalr')"
   ]
  },
  {
   "cell_type": "code",
   "execution_count": 258,
   "metadata": {},
   "outputs": [],
   "source": [
    "tree = parser.parse(\"\"\"\n",
    "{\n",
    " print 2+2*9;\n",
    "}\n",
    "\"\"\")"
   ]
  },
  {
   "cell_type": "code",
   "execution_count": 259,
   "metadata": {
    "scrolled": true
   },
   "outputs": [
    {
     "name": "stdout",
     "output_type": "stream",
     "text": [
      "print\n",
      "  add\n",
      "    2\n",
      "    mul\n",
      "      2\n",
      "      9\n",
      "\n"
     ]
    }
   ],
   "source": [
    "print tree.pretty()"
   ]
  },
  {
   "cell_type": "code",
   "execution_count": 260,
   "metadata": {},
   "outputs": [
    {
     "data": {
      "text/plain": [
       "Tree(print, [Tree(add, [Token(NUMBER, '2'), Tree(mul, [Token(NUMBER, '2'), Token(NUMBER, '9')])])])"
      ]
     },
     "execution_count": 260,
     "metadata": {},
     "output_type": "execute_result"
    }
   ],
   "source": [
    "tree"
   ]
  },
  {
   "cell_type": "code",
   "execution_count": 261,
   "metadata": {},
   "outputs": [],
   "source": [
    "class Code(object):\n",
    "    \n",
    "    def __init__(self):\n",
    "        self.code = []\n",
    "        self.names = []\n",
    "        self.consts = []\n",
    "        self.globals = {}"
   ]
  },
  {
   "cell_type": "code",
   "execution_count": 262,
   "metadata": {},
   "outputs": [],
   "source": [
    "co = Code()\n",
    "\n",
    "def visit(node):\n",
    "    if hasattr(node, 'children'):\n",
    "\n",
    "        for child in node.children:\n",
    "            visit(child)\n",
    "        if node.data in ('add', 'sub', 'mul', 'div'):\n",
    "            co.code.append((node.data.upper(), None))\n",
    "        elif node.data == 'print':\n",
    "            co.code.append(('PRINT', None))\n",
    "        elif node.data == 'stmt':\n",
    "            co.code.append(('POP', None))\n",
    "        elif node.data == 'block':\n",
    "            pass\n",
    "        else:\n",
    "            raise Exception('unknown non-leaf node', node.data)\n",
    "            \n",
    "    else:\n",
    "        \n",
    "        if node.type == 'NUMBER':\n",
    "            co.code.append(('PUSH', int(node.value)))\n",
    "#         elif node.type == 'WORD':\n",
    "#             co.\n",
    "        else:\n",
    "            raise Exception('unknown leaf node', node.type)\n"
   ]
  },
  {
   "cell_type": "code",
   "execution_count": 263,
   "metadata": {},
   "outputs": [
    {
     "data": {
      "text/plain": [
       "[('PUSH', 2),\n",
       " ('PUSH', 2),\n",
       " ('PUSH', 9),\n",
       " ('MUL', None),\n",
       " ('ADD', None),\n",
       " ('PRINT', None)]"
      ]
     },
     "execution_count": 263,
     "metadata": {},
     "output_type": "execute_result"
    }
   ],
   "source": [
    "visit(tree)\n",
    "co.code"
   ]
  },
  {
   "cell_type": "code",
   "execution_count": 264,
   "metadata": {},
   "outputs": [
    {
     "name": "stdout",
     "output_type": "stream",
     "text": [
      "20\n"
     ]
    },
    {
     "data": {
      "text/plain": [
       "[]"
      ]
     },
     "execution_count": 264,
     "metadata": {},
     "output_type": "execute_result"
    }
   ],
   "source": [
    "stack = []\n",
    "\n",
    "def vm(code):\n",
    "    for op, arg in code:\n",
    "        if op == 'PUSH':\n",
    "            stack.append(arg)\n",
    "        elif op in ('ADD', 'SUB', 'MUL', 'DIV'):\n",
    "            b = stack.pop()\n",
    "            a = stack.pop()\n",
    "            if op == 'ADD':\n",
    "                stack.append(a+b)\n",
    "            elif op == 'SUB':\n",
    "                stack.append(a-b)\n",
    "            elif op == 'MUL':\n",
    "                stack.append(a*b)\n",
    "            else:\n",
    "                stack.append(a/b)\n",
    "        elif op == 'PRINT':\n",
    "            print stack.pop()\n",
    "            \n",
    "        elif op == 'POP':\n",
    "            stack.pop()\n",
    "            \n",
    "        else:\n",
    "            raise Exception('unknown operation', op)\n",
    "            \n",
    "vm(co.code)\n",
    "stack"
   ]
  },
  {
   "cell_type": "code",
   "execution_count": 225,
   "metadata": {},
   "outputs": [],
   "source": [
    "co = compile(\"\"\"\n",
    "\n",
    "x=9\n",
    "z=13\n",
    "z=9\n",
    "\n",
    "print x+z\n",
    "\n",
    "11\n",
    "\n",
    "\"\"\", 'temp', 'exec')"
   ]
  },
  {
   "cell_type": "code",
   "execution_count": 226,
   "metadata": {},
   "outputs": [
    {
     "name": "stdout",
     "output_type": "stream",
     "text": [
      "  3           0 LOAD_CONST               0 (9)\n",
      "              3 STORE_NAME               0 (x)\n",
      "\n",
      "  4           6 LOAD_CONST               1 (13)\n",
      "              9 STORE_NAME               1 (z)\n",
      "\n",
      "  5          12 LOAD_CONST               0 (9)\n",
      "             15 STORE_NAME               1 (z)\n",
      "\n",
      "  7          18 LOAD_NAME                0 (x)\n",
      "             21 LOAD_NAME                1 (z)\n",
      "             24 BINARY_ADD          \n",
      "             25 PRINT_ITEM          \n",
      "             26 PRINT_NEWLINE       \n",
      "\n",
      "  9          27 LOAD_CONST               2 (None)\n",
      "             30 RETURN_VALUE        \n"
     ]
    }
   ],
   "source": [
    "dis.dis(co)"
   ]
  },
  {
   "cell_type": "code",
   "execution_count": 208,
   "metadata": {},
   "outputs": [
    {
     "data": {
      "text/plain": [
       "('x', 'z')"
      ]
     },
     "execution_count": 208,
     "metadata": {},
     "output_type": "execute_result"
    }
   ],
   "source": [
    "co.co_names"
   ]
  },
  {
   "cell_type": "code",
   "execution_count": 214,
   "metadata": {},
   "outputs": [
    {
     "data": {
      "text/plain": [
       "(9, 13, None)"
      ]
     },
     "execution_count": 214,
     "metadata": {},
     "output_type": "execute_result"
    }
   ],
   "source": [
    "co.co_consts"
   ]
  },
  {
   "cell_type": "code",
   "execution_count": 227,
   "metadata": {},
   "outputs": [
    {
     "data": {
      "text/plain": [
       "'d\\x00\\x00Z\\x00\\x00d\\x01\\x00Z\\x01\\x00d\\x00\\x00Z\\x01\\x00e\\x00\\x00e\\x01\\x00\\x17GHd\\x02\\x00S'"
      ]
     },
     "execution_count": 227,
     "metadata": {},
     "output_type": "execute_result"
    }
   ],
   "source": [
    "co.co_code"
   ]
  },
  {
   "cell_type": "code",
   "execution_count": null,
   "metadata": {},
   "outputs": [],
   "source": []
  }
 ],
 "metadata": {
  "kernelspec": {
   "display_name": "Python 2",
   "language": "python",
   "name": "python2"
  },
  "language_info": {
   "codemirror_mode": {
    "name": "ipython",
    "version": 2
   },
   "file_extension": ".py",
   "mimetype": "text/x-python",
   "name": "python",
   "nbconvert_exporter": "python",
   "pygments_lexer": "ipython2",
   "version": "2.7.13"
  }
 },
 "nbformat": 4,
 "nbformat_minor": 2
}
